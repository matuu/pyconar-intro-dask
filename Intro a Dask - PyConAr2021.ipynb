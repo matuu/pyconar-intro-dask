{
 "cells": [
  {
   "cell_type": "markdown",
   "id": "d180a060-82aa-4aad-9266-744efef1be96",
   "metadata": {
    "tags": []
   },
   "source": [
    "# Introdución a Dask\n",
    "\n",
    "## Un breve repaso por los conceptos fundamentales\n",
    "\n",
    "### Disertante: Matu Varela  \n",
    "\n",
    "Twitter: @matuvarela\n",
    "\n",
    "Telegram: m4tuu\n",
    "\n",
    "Discord: matuu #0630\n",
    "\n",
    "# PyConAr 2021 - Octubre - Argentina\n",
    "<br/><br/>\n",
    "<a href=\"#Agenda\"> >> Agenda</a>\n",
    "\n",
    "<br/><br/><br/><br/><br/>\n",
    "\n",
    "\n",
    "\n",
    "\n",
    "\n",
    "\n",
    "\n",
    "\n",
    "\n",
    "\n",
    "\n"
   ]
  },
  {
   "cell_type": "markdown",
   "id": "e60e4482-b450-480f-a7f1-707998390eff",
   "metadata": {},
   "source": [
    "# Agenda"
   ]
  },
  {
   "cell_type": "markdown",
   "id": "d0afc9f7-2e3e-4cd6-be96-2bbdf3324cc6",
   "metadata": {},
   "source": [
    "- <a href=\"#Dask\" style=\"font-size:2rem\">Dask</a>\n",
    "\n",
    "- <a href=\"#Dask-Arrays\" style=\"font-size:2rem\">Dask Arrays</a>\n",
    "\n",
    "- <a href=\"#Dask-Bag\" style=\"font-size:2rem\">Dask Bag</a>\n",
    "\n",
    "- <a href=\"#Dask-DataFrame\" style=\"font-size:2rem\">Dask DataFrame</a>\n",
    "\n",
    "- <a href=\"#Dask-Delayed\" style=\"font-size:2rem\">Dask Delayed</a>\n",
    "\n",
    "<br/><br/><br/><br/><br/><br/><br/><br/><br/><br/><br/><br/><br/><br/><br/><br/>\n"
   ]
  },
  {
   "cell_type": "markdown",
   "id": "271d91a5-0493-41ec-a650-4d08570b5131",
   "metadata": {
    "jp-MarkdownHeadingCollapsed": true,
    "tags": []
   },
   "source": [
    "# Dask"
   ]
  },
  {
   "cell_type": "markdown",
   "id": "4a18861f-3d79-41c8-a788-0414ffe3dbcd",
   "metadata": {
    "tags": []
   },
   "source": [
    "### Dask es un flexible biblioteca para computación paralela en Python\n",
    "\n",
    "#### - Programación dinámica de tareas (Dynamic task scheduling) optimizada para el cálculo\n",
    "#### - _“Big Data” collections_ como _parallel arrays_, dataframes y listas (tal como NumPy, Pandas, etc)\n",
    "\n",
    "##### Estas coleciones se ejecutan sobre estos programadores de tareas dinamicas."
   ]
  },
  {
   "cell_type": "markdown",
   "id": "4ba68b8b-ec25-4126-b135-a5e12c5b6b38",
   "metadata": {},
   "source": [
    "<img src=\"images/dask-overview.svg\" alt=\"Dask Overview\"  width=\"600\" />"
   ]
  },
  {
   "cell_type": "markdown",
   "id": "7e69cf2e-e171-4c3c-a20a-0df01459ab4e",
   "metadata": {
    "jp-MarkdownHeadingCollapsed": true,
    "tags": []
   },
   "source": [
    "## Sitio oficial: https://dask.org/\n",
    "\n",
    "### Instalación\n",
    "\n",
    "#### Podemos instalar usando conda, pip, poetry o desde el código fuente. Con pip es\n",
    "\n",
    "<code> pip install \"dask[complete]\"  # Instala todo</code> \n",
    "\n",
    "#### Pero podemos instalar sólo el core de dask\n",
    "\n",
    "<code> pip install dask </code>\n",
    "\n",
    "#### y luego instalar la dependencia que necesitemos, por ejemplo:\n",
    "\n",
    "<code>pip install \"dask[array]\" </code>\n",
    "\n",
    "<code>pip install \"dask[dataframe]\"</code>\n",
    "\n",
    "<code>pip install \"dask[distributed]\"</code>\n",
    "\n",
    "Más info en https://docs.dask.org/en/latest/install.html\n",
    "\n",
    "<br/><br/>\n",
    "<a href=\"#Agenda\"> >> Agenda</a>\n",
    "<br/><br/><br/><br/><br/><br/><br/><br/><br/><br/>"
   ]
  },
  {
   "cell_type": "markdown",
   "id": "bf548a8e-20f0-44d5-b157-fd0b6ccbf8ef",
   "metadata": {
    "tags": []
   },
   "source": [
    "# Dask Arrays"
   ]
  },
  {
   "cell_type": "markdown",
   "id": "2474ffce-5daa-464e-b29d-32af8d84a5ad",
   "metadata": {
    "tags": []
   },
   "source": [
    "Una generalización de los arrays en NumPy, pero que te permite trabajar con datos que no caben en la memoria. \n",
    "\n",
    "Te permite escalar tu código NumPy. \n",
    "\n",
    "No es *exactamente* la API de NumPy, pero muy similar"
   ]
  },
  {
   "cell_type": "markdown",
   "id": "63ca2319-9984-4d64-bb05-b28e25d7a6e9",
   "metadata": {},
   "source": [
    "![Numpy and Dask Arrays comparison](images/dask_arrys_comp.png)"
   ]
  },
  {
   "cell_type": "markdown",
   "id": "74f3f62e-fbc4-4529-8406-b2b77f258266",
   "metadata": {
    "tags": []
   },
   "source": [
    "## Pero pará, qué es NumPy?"
   ]
  },
  {
   "cell_type": "markdown",
   "id": "8f1f4cdf-d5fa-450b-9f27-b28b35da2852",
   "metadata": {},
   "source": [
    "- Biblioteca de python que provee arrays multimencionales\n",
    "- Tiene rutinas que permiten operar muy rápidamente sobre esos arrays\n",
    "- Tiene una colección de funciones matemáticas de alto nivel"
   ]
  },
  {
   "cell_type": "markdown",
   "id": "6179c89a-a6dc-4c66-85d1-c726d47ef8d7",
   "metadata": {},
   "source": [
    "### Veamos un uso simple de NumPy"
   ]
  },
  {
   "cell_type": "code",
   "execution_count": 11,
   "id": "829dff09-c04e-457f-93a3-dc9501d59158",
   "metadata": {},
   "outputs": [
    {
     "data": {
      "text/plain": [
       "array([[1, 1, 1, 1, 1, 1, 1, 1, 1, 1, 1, 1, 1, 1, 1, 1, 1, 1, 1, 1],\n",
       "       [1, 1, 1, 1, 1, 1, 1, 1, 1, 1, 1, 1, 1, 1, 1, 1, 1, 1, 1, 1],\n",
       "       [1, 1, 1, 1, 1, 1, 1, 1, 1, 1, 1, 1, 1, 1, 1, 1, 1, 1, 1, 1],\n",
       "       [1, 1, 1, 1, 1, 1, 1, 1, 1, 1, 1, 1, 1, 1, 1, 1, 1, 1, 1, 1],\n",
       "       [1, 1, 1, 1, 1, 1, 1, 1, 1, 1, 1, 1, 1, 1, 1, 1, 1, 1, 1, 1],\n",
       "       [1, 1, 1, 1, 1, 1, 1, 1, 1, 1, 1, 1, 1, 1, 1, 1, 1, 1, 1, 1],\n",
       "       [1, 1, 1, 1, 1, 1, 1, 1, 1, 1, 1, 1, 1, 1, 1, 1, 1, 1, 1, 1],\n",
       "       [1, 1, 1, 1, 1, 1, 1, 1, 1, 1, 1, 1, 1, 1, 1, 1, 1, 1, 1, 1],\n",
       "       [1, 1, 1, 1, 1, 1, 1, 1, 1, 1, 1, 1, 1, 1, 1, 1, 1, 1, 1, 1],\n",
       "       [1, 1, 1, 1, 1, 1, 1, 1, 1, 1, 1, 1, 1, 1, 1, 1, 1, 1, 1, 1],\n",
       "       [1, 1, 1, 1, 1, 1, 1, 1, 1, 1, 1, 1, 1, 1, 1, 1, 1, 1, 1, 1],\n",
       "       [1, 1, 1, 1, 1, 1, 1, 1, 1, 1, 1, 1, 1, 1, 1, 1, 1, 1, 1, 1],\n",
       "       [1, 1, 1, 1, 1, 1, 1, 1, 1, 1, 1, 1, 1, 1, 1, 1, 1, 1, 1, 1],\n",
       "       [1, 1, 1, 1, 1, 1, 1, 1, 1, 1, 1, 1, 1, 1, 1, 1, 1, 1, 1, 1],\n",
       "       [1, 1, 1, 1, 1, 1, 1, 1, 1, 1, 1, 1, 1, 1, 1, 1, 1, 1, 1, 1],\n",
       "       [1, 1, 1, 1, 1, 1, 1, 1, 1, 1, 1, 1, 1, 1, 1, 1, 1, 1, 1, 1],\n",
       "       [1, 1, 1, 1, 1, 1, 1, 1, 1, 1, 1, 1, 1, 1, 1, 1, 1, 1, 1, 1],\n",
       "       [1, 1, 1, 1, 1, 1, 1, 1, 1, 1, 1, 1, 1, 1, 1, 1, 1, 1, 1, 1],\n",
       "       [1, 1, 1, 1, 1, 1, 1, 1, 1, 1, 1, 1, 1, 1, 1, 1, 1, 1, 1, 1],\n",
       "       [1, 1, 1, 1, 1, 1, 1, 1, 1, 1, 1, 1, 1, 1, 1, 1, 1, 1, 1, 1]])"
      ]
     },
     "execution_count": 11,
     "metadata": {},
     "output_type": "execute_result"
    }
   ],
   "source": [
    "import numpy as np\n",
    "\n",
    "x = np.ones((20, 20), dtype=int)\n",
    "x"
   ]
  },
  {
   "cell_type": "code",
   "execution_count": 12,
   "id": "d5907d1e-4c49-48b5-ab6a-b2eb12151878",
   "metadata": {},
   "outputs": [
    {
     "name": "stdout",
     "output_type": "stream",
     "text": [
      "CPU times: user 77 µs, sys: 187 µs, total: 264 µs\n",
      "Wall time: 292 µs\n"
     ]
    },
    {
     "data": {
      "text/plain": [
       "400"
      ]
     },
     "execution_count": 12,
     "metadata": {},
     "output_type": "execute_result"
    }
   ],
   "source": [
    "%%time\n",
    "x.sum()"
   ]
  },
  {
   "cell_type": "code",
   "execution_count": 13,
   "id": "5f2432c2-19e4-4850-b627-66ca78063cac",
   "metadata": {},
   "outputs": [
    {
     "data": {
      "text/plain": [
       "array([[0.97485297, 0.57676099, 0.44372251, ..., 0.28585312, 0.6193498 ,\n",
       "        0.15905171],\n",
       "       [0.81882849, 0.27099541, 0.5222761 , ..., 0.46392944, 0.81945051,\n",
       "        0.25173409],\n",
       "       [0.08343496, 0.86505165, 0.65627701, ..., 0.14114138, 0.56821094,\n",
       "        0.98462329],\n",
       "       ...,\n",
       "       [0.27254719, 0.81304651, 0.32367007, ..., 0.49053416, 0.20829936,\n",
       "        0.39429979],\n",
       "       [0.91482728, 0.22772649, 0.78136037, ..., 0.99067511, 0.37229194,\n",
       "        0.43809807],\n",
       "       [0.30451196, 0.43687508, 0.52396729, ..., 0.78271005, 0.20662826,\n",
       "        0.75767556]])"
      ]
     },
     "execution_count": 13,
     "metadata": {},
     "output_type": "execute_result"
    }
   ],
   "source": [
    "x = np.random.random(size=(500, 500))\n",
    "x"
   ]
  },
  {
   "cell_type": "code",
   "execution_count": 14,
   "id": "5cbd8da3-31d5-4fd1-b9a1-349766d2dd92",
   "metadata": {},
   "outputs": [
    {
     "name": "stdout",
     "output_type": "stream",
     "text": [
      "CPU times: user 1.26 ms, sys: 386 µs, total: 1.65 ms\n",
      "Wall time: 916 µs\n"
     ]
    },
    {
     "data": {
      "text/plain": [
       "124738.01389205799"
      ]
     },
     "execution_count": 14,
     "metadata": {},
     "output_type": "execute_result"
    }
   ],
   "source": [
    "%%time\n",
    "x.sum()"
   ]
  },
  {
   "cell_type": "code",
   "execution_count": 15,
   "id": "3f6f8a4d-37a7-429d-b270-8cb60c6a70c9",
   "metadata": {},
   "outputs": [
    {
     "name": "stdout",
     "output_type": "stream",
     "text": [
      "CPU times: user 3.31 ms, sys: 2.37 ms, total: 5.68 ms\n",
      "Wall time: 4.53 ms\n"
     ]
    },
    {
     "data": {
      "text/plain": [
       "array([[1.94970595, 1.39558947, 0.52715747, ..., 0.5584003 , 1.53417708,\n",
       "        0.46356367],\n",
       "       [1.39558947, 0.54199083, 1.38732775, ..., 1.27697595, 1.047177  ,\n",
       "        0.68860917],\n",
       "       [0.52715747, 1.38732775, 1.31255402, ..., 0.46481145, 1.34957131,\n",
       "        1.50859058],\n",
       "       ...,\n",
       "       [0.5584003 , 1.27697595, 0.46481145, ..., 0.98106832, 1.19897447,\n",
       "        1.17700983],\n",
       "       [1.53417708, 1.047177  , 1.34957131, ..., 1.19897447, 0.74458387,\n",
       "        0.64472633],\n",
       "       [0.46356367, 0.68860917, 1.50859058, ..., 1.17700983, 0.64472633,\n",
       "        1.51535112]])"
      ]
     },
     "execution_count": 15,
     "metadata": {},
     "output_type": "execute_result"
    }
   ],
   "source": [
    "%%time\n",
    "y = x + x.T\n",
    "y"
   ]
  },
  {
   "cell_type": "code",
   "execution_count": 16,
   "id": "6f6847aa-ac67-43a7-ba68-068365caa48c",
   "metadata": {},
   "outputs": [
    {
     "name": "stdout",
     "output_type": "stream",
     "text": [
      "CPU times: user 1.87 ms, sys: 1.34 ms, total: 3.21 ms\n",
      "Wall time: 2.15 ms\n"
     ]
    },
    {
     "data": {
      "text/plain": [
       "0.9979041111364638"
      ]
     },
     "execution_count": 16,
     "metadata": {},
     "output_type": "execute_result"
    }
   ],
   "source": [
    "%%time\n",
    "np.mean(y)"
   ]
  },
  {
   "cell_type": "markdown",
   "id": "1532de11-d01d-4c03-8748-25cf6a3b4947",
   "metadata": {},
   "source": [
    "Creemos una matriz de 20.000 X 20.000 con valores aleatorios y calculemos la media:"
   ]
  },
  {
   "cell_type": "code",
   "execution_count": 17,
   "id": "b73bbfd7-55ee-4cc0-a9f5-fbb9ab2a40a4",
   "metadata": {},
   "outputs": [
    {
     "name": "stdout",
     "output_type": "stream",
     "text": [
      "CPU times: user 9.62 s, sys: 6.84 s, total: 16.5 s\n",
      "Wall time: 22.3 s\n"
     ]
    },
    {
     "data": {
      "text/plain": [
       "array([0.50056997, 0.49675479, 0.49824505, ..., 0.49908231, 0.49864342,\n",
       "       0.50070222])"
      ]
     },
     "execution_count": 17,
     "metadata": {},
     "output_type": "execute_result"
    }
   ],
   "source": [
    "%%time\n",
    "z = np.random.random(size=(20_000, 20_000))\n",
    "z.mean(axis=0)"
   ]
  },
  {
   "cell_type": "code",
   "execution_count": 18,
   "id": "d74a5c42-222d-4c19-9c33-0e8a50f8dd44",
   "metadata": {},
   "outputs": [
    {
     "data": {
      "text/plain": [
       "(20000, 20000)"
      ]
     },
     "execution_count": 18,
     "metadata": {},
     "output_type": "execute_result"
    }
   ],
   "source": [
    "z.shape"
   ]
  },
  {
   "cell_type": "code",
   "execution_count": 19,
   "id": "df8c81f0-7448-42c7-8fcc-0c298c9a7549",
   "metadata": {},
   "outputs": [
    {
     "name": "stderr",
     "output_type": "stream",
     "text": [
      "Python(40281,0x1119a5e00) malloc: can't allocate region\n",
      ":*** mach_vm_map(size=800000000000000, flags: 100) failed (error code=3)\n",
      "Python(40281,0x1119a5e00) malloc: *** set a breakpoint in malloc_error_break to debug\n"
     ]
    },
    {
     "ename": "MemoryError",
     "evalue": "Unable to allocate 728. TiB for an array with shape (10000000, 10000000) and data type int64",
     "output_type": "error",
     "traceback": [
      "\u001b[0;31m---------------------------------------------------------------------------\u001b[0m",
      "\u001b[0;31mMemoryError\u001b[0m                               Traceback (most recent call last)",
      "\u001b[0;32m<timed exec>\u001b[0m in \u001b[0;36m<module>\u001b[0;34m\u001b[0m\n",
      "\u001b[0;32m~/Library/Caches/pypoetry/virtualenvs/intro-dask-KIScunZ6-py3.9/lib/python3.9/site-packages/numpy/core/numeric.py\u001b[0m in \u001b[0;36mones\u001b[0;34m(shape, dtype, order, like)\u001b[0m\n\u001b[1;32m    202\u001b[0m         \u001b[0;32mreturn\u001b[0m \u001b[0m_ones_with_like\u001b[0m\u001b[0;34m(\u001b[0m\u001b[0mshape\u001b[0m\u001b[0;34m,\u001b[0m \u001b[0mdtype\u001b[0m\u001b[0;34m=\u001b[0m\u001b[0mdtype\u001b[0m\u001b[0;34m,\u001b[0m \u001b[0morder\u001b[0m\u001b[0;34m=\u001b[0m\u001b[0morder\u001b[0m\u001b[0;34m,\u001b[0m \u001b[0mlike\u001b[0m\u001b[0;34m=\u001b[0m\u001b[0mlike\u001b[0m\u001b[0;34m)\u001b[0m\u001b[0;34m\u001b[0m\u001b[0;34m\u001b[0m\u001b[0m\n\u001b[1;32m    203\u001b[0m \u001b[0;34m\u001b[0m\u001b[0m\n\u001b[0;32m--> 204\u001b[0;31m     \u001b[0ma\u001b[0m \u001b[0;34m=\u001b[0m \u001b[0mempty\u001b[0m\u001b[0;34m(\u001b[0m\u001b[0mshape\u001b[0m\u001b[0;34m,\u001b[0m \u001b[0mdtype\u001b[0m\u001b[0;34m,\u001b[0m \u001b[0morder\u001b[0m\u001b[0;34m)\u001b[0m\u001b[0;34m\u001b[0m\u001b[0;34m\u001b[0m\u001b[0m\n\u001b[0m\u001b[1;32m    205\u001b[0m     \u001b[0mmultiarray\u001b[0m\u001b[0;34m.\u001b[0m\u001b[0mcopyto\u001b[0m\u001b[0;34m(\u001b[0m\u001b[0ma\u001b[0m\u001b[0;34m,\u001b[0m \u001b[0;36m1\u001b[0m\u001b[0;34m,\u001b[0m \u001b[0mcasting\u001b[0m\u001b[0;34m=\u001b[0m\u001b[0;34m'unsafe'\u001b[0m\u001b[0;34m)\u001b[0m\u001b[0;34m\u001b[0m\u001b[0;34m\u001b[0m\u001b[0m\n\u001b[1;32m    206\u001b[0m     \u001b[0;32mreturn\u001b[0m \u001b[0ma\u001b[0m\u001b[0;34m\u001b[0m\u001b[0;34m\u001b[0m\u001b[0m\n",
      "\u001b[0;31mMemoryError\u001b[0m: Unable to allocate 728. TiB for an array with shape (10000000, 10000000) and data type int64"
     ]
    }
   ],
   "source": [
    "%%time\n",
    "h = np.ones((10_000_000, 10_000_000), dtype=int)"
   ]
  },
  {
   "cell_type": "markdown",
   "id": "54968a4c-3487-4024-ba0e-aac3187ee51a",
   "metadata": {},
   "source": [
    "## Acá es donde Dask nos puede ayudar!\n",
    "\n",
    "Dask Array implementa un subset de la interfaz ndarray de NumPy usando técnicas de optimización de uso de memoria (blocked algorithms), dividiendo grandes arrays en muchos más pequeños.\n",
    "\n",
    "De esa forma, Dask puede computar arrays más grande que la memoria y usando todos los núcleos.\n"
   ]
  },
  {
   "cell_type": "markdown",
   "id": "d7366f80-75ce-458e-ad95-0fe6fbb027aa",
   "metadata": {},
   "source": [
    "![Dask arrays diagram](images/dask-array-graph.svg)"
   ]
  },
  {
   "cell_type": "code",
   "execution_count": 16,
   "id": "a8967727-efd3-46c4-b6a1-fdc70e8ef3d2",
   "metadata": {},
   "outputs": [
    {
     "data": {
      "text/html": [
       "<div>\n",
       "    <div style=\"width: 24px; height: 24px; background-color: #e1e1e1; border: 3px solid #9D9D9D; border-radius: 5px; position: absolute;\"> </div>\n",
       "    <div style=\"margin-left: 48px;\">\n",
       "        <h3 style=\"margin-bottom: 0px;\">Client</h3>\n",
       "        <p style=\"color: #9D9D9D; margin-bottom: 0px;\">Client-7ad986e0-31ac-11ec-99fc-acde48001122</p>\n",
       "        <table style=\"width: 100%; text-align: left;\">\n",
       "\n",
       "        <tr>\n",
       "        \n",
       "            <td style=\"text-align: left;\"><strong>Connection method:</strong> Cluster object</td>\n",
       "            <td style=\"text-align: left;\"><strong>Cluster type:</strong> distributed.LocalCluster</td>\n",
       "        \n",
       "        </tr>\n",
       "\n",
       "        \n",
       "            <tr>\n",
       "                <td style=\"text-align: left;\">\n",
       "                    <strong>Dashboard: </strong> <a href=\"http://127.0.0.1:8787/status\" target=\"_blank\">http://127.0.0.1:8787/status</a>\n",
       "                </td>\n",
       "                <td style=\"text-align: left;\"></td>\n",
       "            </tr>\n",
       "        \n",
       "\n",
       "        </table>\n",
       "\n",
       "        \n",
       "            <details>\n",
       "            <summary style=\"margin-bottom: 20px;\"><h3 style=\"display: inline;\">Cluster Info</h3></summary>\n",
       "            <div class=\"jp-RenderedHTMLCommon jp-RenderedHTML jp-mod-trusted jp-OutputArea-output\">\n",
       "    <div style=\"width: 24px; height: 24px; background-color: #e1e1e1; border: 3px solid #9D9D9D; border-radius: 5px; position: absolute;\">\n",
       "    </div>\n",
       "    <div style=\"margin-left: 48px;\">\n",
       "        <h3 style=\"margin-bottom: 0px; margin-top: 0px;\">LocalCluster</h3>\n",
       "        <p style=\"color: #9D9D9D; margin-bottom: 0px;\">cabfec00</p>\n",
       "        <table style=\"width: 100%; text-align: left;\">\n",
       "            <tr>\n",
       "                <td style=\"text-align: left;\">\n",
       "                    <strong>Dashboard:</strong> <a href=\"http://127.0.0.1:8787/status\" target=\"_blank\">http://127.0.0.1:8787/status</a>\n",
       "                </td>\n",
       "                <td style=\"text-align: left;\">\n",
       "                    <strong>Workers:</strong> 4\n",
       "                </td>\n",
       "            </tr>\n",
       "            <tr>\n",
       "                <td style=\"text-align: left;\">\n",
       "                    <strong>Total threads:</strong> 8\n",
       "                </td>\n",
       "                <td style=\"text-align: left;\">\n",
       "                    <strong>Total memory:</strong> 16.00 GiB\n",
       "                </td>\n",
       "            </tr>\n",
       "            \n",
       "            <tr>\n",
       "    <td style=\"text-align: left;\"><strong>Status:</strong> running</td>\n",
       "    <td style=\"text-align: left;\"><strong>Using processes:</strong> True</td>\n",
       "</tr>\n",
       "\n",
       "            \n",
       "        </table>\n",
       "\n",
       "        <details>\n",
       "            <summary style=\"margin-bottom: 20px;\">\n",
       "                <h3 style=\"display: inline;\">Scheduler Info</h3>\n",
       "            </summary>\n",
       "\n",
       "            <div style=\"\">\n",
       "    <div>\n",
       "        <div style=\"width: 24px; height: 24px; background-color: #FFF7E5; border: 3px solid #FF6132; border-radius: 5px; position: absolute;\"> </div>\n",
       "        <div style=\"margin-left: 48px;\">\n",
       "            <h3 style=\"margin-bottom: 0px;\">Scheduler</h3>\n",
       "            <p style=\"color: #9D9D9D; margin-bottom: 0px;\">Scheduler-484e78a3-30e3-45d5-8d25-977a753290ea</p>\n",
       "            <table style=\"width: 100%; text-align: left;\">\n",
       "                <tr>\n",
       "                    <td style=\"text-align: left;\">\n",
       "                        <strong>Comm:</strong> tcp://127.0.0.1:56226\n",
       "                    </td>\n",
       "                    <td style=\"text-align: left;\">\n",
       "                        <strong>Workers:</strong> 4\n",
       "                    </td>\n",
       "                </tr>\n",
       "                <tr>\n",
       "                    <td style=\"text-align: left;\">\n",
       "                        <strong>Dashboard:</strong> <a href=\"http://127.0.0.1:8787/status\" target=\"_blank\">http://127.0.0.1:8787/status</a>\n",
       "                    </td>\n",
       "                    <td style=\"text-align: left;\">\n",
       "                        <strong>Total threads:</strong> 8\n",
       "                    </td>\n",
       "                </tr>\n",
       "                <tr>\n",
       "                    <td style=\"text-align: left;\">\n",
       "                        <strong>Started:</strong> Just now\n",
       "                    </td>\n",
       "                    <td style=\"text-align: left;\">\n",
       "                        <strong>Total memory:</strong> 16.00 GiB\n",
       "                    </td>\n",
       "                </tr>\n",
       "            </table>\n",
       "        </div>\n",
       "    </div>\n",
       "\n",
       "    <details style=\"margin-left: 48px;\">\n",
       "        <summary style=\"margin-bottom: 20px;\">\n",
       "            <h3 style=\"display: inline;\">Workers</h3>\n",
       "        </summary>\n",
       "\n",
       "        \n",
       "        <div style=\"margin-bottom: 20px;\">\n",
       "            <div style=\"width: 24px; height: 24px; background-color: #DBF5FF; border: 3px solid #4CC9FF; border-radius: 5px; position: absolute;\"> </div>\n",
       "            <div style=\"margin-left: 48px;\">\n",
       "            <details>\n",
       "                <summary>\n",
       "                    <h4 style=\"margin-bottom: 0px; display: inline;\">Worker: 0</h4>\n",
       "                </summary>\n",
       "                <table style=\"width: 100%; text-align: left;\">\n",
       "                    <tr>\n",
       "                        <td style=\"text-align: left;\">\n",
       "                            <strong>Comm: </strong> tcp://127.0.0.1:56241\n",
       "                        </td>\n",
       "                        <td style=\"text-align: left;\">\n",
       "                            <strong>Total threads: </strong> 2\n",
       "                        </td>\n",
       "                    </tr>\n",
       "                    <tr>\n",
       "                        <td style=\"text-align: left;\">\n",
       "                            <strong>Dashboard: </strong> <a href=\"http://127.0.0.1:56245/status\" target=\"_blank\">http://127.0.0.1:56245/status</a>\n",
       "                        </td>\n",
       "                        <td style=\"text-align: left;\">\n",
       "                            <strong>Memory: </strong> 4.00 GiB\n",
       "                        </td>\n",
       "                    </tr>\n",
       "                    <tr>\n",
       "                        <td style=\"text-align: left;\">\n",
       "                            <strong>Nanny: </strong> tcp://127.0.0.1:56230\n",
       "                        </td>\n",
       "                        <td style=\"text-align: left;\"></td>\n",
       "                    </tr>\n",
       "                    <tr>\n",
       "                        <td colspan=\"2\" style=\"text-align: left;\">\n",
       "                            <strong>Local directory: </strong> /Users/matiavarela/repos/personal/intro-dask-pyconar-2021/dask-worker-space/worker-cfl74m64\n",
       "                        </td>\n",
       "                    </tr>\n",
       "\n",
       "                    \n",
       "\n",
       "                    \n",
       "\n",
       "                </table>\n",
       "            </details>\n",
       "            </div>\n",
       "        </div>\n",
       "        \n",
       "        <div style=\"margin-bottom: 20px;\">\n",
       "            <div style=\"width: 24px; height: 24px; background-color: #DBF5FF; border: 3px solid #4CC9FF; border-radius: 5px; position: absolute;\"> </div>\n",
       "            <div style=\"margin-left: 48px;\">\n",
       "            <details>\n",
       "                <summary>\n",
       "                    <h4 style=\"margin-bottom: 0px; display: inline;\">Worker: 1</h4>\n",
       "                </summary>\n",
       "                <table style=\"width: 100%; text-align: left;\">\n",
       "                    <tr>\n",
       "                        <td style=\"text-align: left;\">\n",
       "                            <strong>Comm: </strong> tcp://127.0.0.1:56237\n",
       "                        </td>\n",
       "                        <td style=\"text-align: left;\">\n",
       "                            <strong>Total threads: </strong> 2\n",
       "                        </td>\n",
       "                    </tr>\n",
       "                    <tr>\n",
       "                        <td style=\"text-align: left;\">\n",
       "                            <strong>Dashboard: </strong> <a href=\"http://127.0.0.1:56238/status\" target=\"_blank\">http://127.0.0.1:56238/status</a>\n",
       "                        </td>\n",
       "                        <td style=\"text-align: left;\">\n",
       "                            <strong>Memory: </strong> 4.00 GiB\n",
       "                        </td>\n",
       "                    </tr>\n",
       "                    <tr>\n",
       "                        <td style=\"text-align: left;\">\n",
       "                            <strong>Nanny: </strong> tcp://127.0.0.1:56228\n",
       "                        </td>\n",
       "                        <td style=\"text-align: left;\"></td>\n",
       "                    </tr>\n",
       "                    <tr>\n",
       "                        <td colspan=\"2\" style=\"text-align: left;\">\n",
       "                            <strong>Local directory: </strong> /Users/matiavarela/repos/personal/intro-dask-pyconar-2021/dask-worker-space/worker-l9g95w_k\n",
       "                        </td>\n",
       "                    </tr>\n",
       "\n",
       "                    \n",
       "\n",
       "                    \n",
       "\n",
       "                </table>\n",
       "            </details>\n",
       "            </div>\n",
       "        </div>\n",
       "        \n",
       "        <div style=\"margin-bottom: 20px;\">\n",
       "            <div style=\"width: 24px; height: 24px; background-color: #DBF5FF; border: 3px solid #4CC9FF; border-radius: 5px; position: absolute;\"> </div>\n",
       "            <div style=\"margin-left: 48px;\">\n",
       "            <details>\n",
       "                <summary>\n",
       "                    <h4 style=\"margin-bottom: 0px; display: inline;\">Worker: 2</h4>\n",
       "                </summary>\n",
       "                <table style=\"width: 100%; text-align: left;\">\n",
       "                    <tr>\n",
       "                        <td style=\"text-align: left;\">\n",
       "                            <strong>Comm: </strong> tcp://127.0.0.1:56244\n",
       "                        </td>\n",
       "                        <td style=\"text-align: left;\">\n",
       "                            <strong>Total threads: </strong> 2\n",
       "                        </td>\n",
       "                    </tr>\n",
       "                    <tr>\n",
       "                        <td style=\"text-align: left;\">\n",
       "                            <strong>Dashboard: </strong> <a href=\"http://127.0.0.1:56247/status\" target=\"_blank\">http://127.0.0.1:56247/status</a>\n",
       "                        </td>\n",
       "                        <td style=\"text-align: left;\">\n",
       "                            <strong>Memory: </strong> 4.00 GiB\n",
       "                        </td>\n",
       "                    </tr>\n",
       "                    <tr>\n",
       "                        <td style=\"text-align: left;\">\n",
       "                            <strong>Nanny: </strong> tcp://127.0.0.1:56231\n",
       "                        </td>\n",
       "                        <td style=\"text-align: left;\"></td>\n",
       "                    </tr>\n",
       "                    <tr>\n",
       "                        <td colspan=\"2\" style=\"text-align: left;\">\n",
       "                            <strong>Local directory: </strong> /Users/matiavarela/repos/personal/intro-dask-pyconar-2021/dask-worker-space/worker-o1v3opbn\n",
       "                        </td>\n",
       "                    </tr>\n",
       "\n",
       "                    \n",
       "\n",
       "                    \n",
       "\n",
       "                </table>\n",
       "            </details>\n",
       "            </div>\n",
       "        </div>\n",
       "        \n",
       "        <div style=\"margin-bottom: 20px;\">\n",
       "            <div style=\"width: 24px; height: 24px; background-color: #DBF5FF; border: 3px solid #4CC9FF; border-radius: 5px; position: absolute;\"> </div>\n",
       "            <div style=\"margin-left: 48px;\">\n",
       "            <details>\n",
       "                <summary>\n",
       "                    <h4 style=\"margin-bottom: 0px; display: inline;\">Worker: 3</h4>\n",
       "                </summary>\n",
       "                <table style=\"width: 100%; text-align: left;\">\n",
       "                    <tr>\n",
       "                        <td style=\"text-align: left;\">\n",
       "                            <strong>Comm: </strong> tcp://127.0.0.1:56240\n",
       "                        </td>\n",
       "                        <td style=\"text-align: left;\">\n",
       "                            <strong>Total threads: </strong> 2\n",
       "                        </td>\n",
       "                    </tr>\n",
       "                    <tr>\n",
       "                        <td style=\"text-align: left;\">\n",
       "                            <strong>Dashboard: </strong> <a href=\"http://127.0.0.1:56242/status\" target=\"_blank\">http://127.0.0.1:56242/status</a>\n",
       "                        </td>\n",
       "                        <td style=\"text-align: left;\">\n",
       "                            <strong>Memory: </strong> 4.00 GiB\n",
       "                        </td>\n",
       "                    </tr>\n",
       "                    <tr>\n",
       "                        <td style=\"text-align: left;\">\n",
       "                            <strong>Nanny: </strong> tcp://127.0.0.1:56229\n",
       "                        </td>\n",
       "                        <td style=\"text-align: left;\"></td>\n",
       "                    </tr>\n",
       "                    <tr>\n",
       "                        <td colspan=\"2\" style=\"text-align: left;\">\n",
       "                            <strong>Local directory: </strong> /Users/matiavarela/repos/personal/intro-dask-pyconar-2021/dask-worker-space/worker-68gyhup7\n",
       "                        </td>\n",
       "                    </tr>\n",
       "\n",
       "                    \n",
       "\n",
       "                    \n",
       "\n",
       "                </table>\n",
       "            </details>\n",
       "            </div>\n",
       "        </div>\n",
       "        \n",
       "\n",
       "    </details>\n",
       "</div>\n",
       "\n",
       "        </details>\n",
       "    </div>\n",
       "</div>\n",
       "            </details>\n",
       "        \n",
       "\n",
       "    </div>\n",
       "</div>"
      ],
      "text/plain": [
       "<Client: 'tcp://127.0.0.1:56226' processes=4 threads=8, memory=16.00 GiB>"
      ]
     },
     "execution_count": 16,
     "metadata": {},
     "output_type": "execute_result"
    }
   ],
   "source": [
    "from dask.distributed import Client\n",
    "client = Client(n_workers=4)\n",
    "client"
   ]
  },
  {
   "cell_type": "code",
   "execution_count": 17,
   "id": "12dcad3c-2f5c-41ee-8caa-abed063692a3",
   "metadata": {},
   "outputs": [
    {
     "data": {
      "text/html": [
       "<table>\n",
       "    <tr>\n",
       "        <td>\n",
       "            <table>\n",
       "                <thead>\n",
       "                    <tr>\n",
       "                        <td> </td>\n",
       "                        <th> Array </th>\n",
       "                        <th> Chunk </th>\n",
       "                    </tr>\n",
       "                </thead>\n",
       "                <tbody>\n",
       "                    \n",
       "                    <tr>\n",
       "                        <th> Bytes </th>\n",
       "                        <td> 762.94 MiB </td>\n",
       "                        <td> 7.63 MiB </td>\n",
       "                    </tr>\n",
       "                    \n",
       "                    <tr>\n",
       "                        <th> Shape </th>\n",
       "                        <td> (10000, 10000) </td>\n",
       "                        <td> (1000, 1000) </td>\n",
       "                    </tr>\n",
       "                    <tr>\n",
       "                        <th> Count </th>\n",
       "                        <td> 100 Tasks </td>\n",
       "                        <td> 100 Chunks </td>\n",
       "                    </tr>\n",
       "                    <tr>\n",
       "                    <th> Type </th>\n",
       "                    <td> float64 </td>\n",
       "                    <td> numpy.ndarray </td>\n",
       "                    </tr>\n",
       "                </tbody>\n",
       "            </table>\n",
       "        </td>\n",
       "        <td>\n",
       "        <svg width=\"170\" height=\"170\" style=\"stroke:rgb(0,0,0);stroke-width:1\" >\n",
       "\n",
       "  <!-- Horizontal lines -->\n",
       "  <line x1=\"0\" y1=\"0\" x2=\"120\" y2=\"0\" style=\"stroke-width:2\" />\n",
       "  <line x1=\"0\" y1=\"12\" x2=\"120\" y2=\"12\" />\n",
       "  <line x1=\"0\" y1=\"24\" x2=\"120\" y2=\"24\" />\n",
       "  <line x1=\"0\" y1=\"36\" x2=\"120\" y2=\"36\" />\n",
       "  <line x1=\"0\" y1=\"48\" x2=\"120\" y2=\"48\" />\n",
       "  <line x1=\"0\" y1=\"60\" x2=\"120\" y2=\"60\" />\n",
       "  <line x1=\"0\" y1=\"72\" x2=\"120\" y2=\"72\" />\n",
       "  <line x1=\"0\" y1=\"84\" x2=\"120\" y2=\"84\" />\n",
       "  <line x1=\"0\" y1=\"96\" x2=\"120\" y2=\"96\" />\n",
       "  <line x1=\"0\" y1=\"108\" x2=\"120\" y2=\"108\" />\n",
       "  <line x1=\"0\" y1=\"120\" x2=\"120\" y2=\"120\" style=\"stroke-width:2\" />\n",
       "\n",
       "  <!-- Vertical lines -->\n",
       "  <line x1=\"0\" y1=\"0\" x2=\"0\" y2=\"120\" style=\"stroke-width:2\" />\n",
       "  <line x1=\"12\" y1=\"0\" x2=\"12\" y2=\"120\" />\n",
       "  <line x1=\"24\" y1=\"0\" x2=\"24\" y2=\"120\" />\n",
       "  <line x1=\"36\" y1=\"0\" x2=\"36\" y2=\"120\" />\n",
       "  <line x1=\"48\" y1=\"0\" x2=\"48\" y2=\"120\" />\n",
       "  <line x1=\"60\" y1=\"0\" x2=\"60\" y2=\"120\" />\n",
       "  <line x1=\"72\" y1=\"0\" x2=\"72\" y2=\"120\" />\n",
       "  <line x1=\"84\" y1=\"0\" x2=\"84\" y2=\"120\" />\n",
       "  <line x1=\"96\" y1=\"0\" x2=\"96\" y2=\"120\" />\n",
       "  <line x1=\"108\" y1=\"0\" x2=\"108\" y2=\"120\" />\n",
       "  <line x1=\"120\" y1=\"0\" x2=\"120\" y2=\"120\" style=\"stroke-width:2\" />\n",
       "\n",
       "  <!-- Colored Rectangle -->\n",
       "  <polygon points=\"0.0,0.0 120.0,0.0 120.0,120.0 0.0,120.0\" style=\"fill:#ECB172A0;stroke-width:0\"/>\n",
       "\n",
       "  <!-- Text -->\n",
       "  <text x=\"60.000000\" y=\"140.000000\" font-size=\"1.0rem\" font-weight=\"100\" text-anchor=\"middle\" >10000</text>\n",
       "  <text x=\"140.000000\" y=\"60.000000\" font-size=\"1.0rem\" font-weight=\"100\" text-anchor=\"middle\" transform=\"rotate(-90,140.000000,60.000000)\">10000</text>\n",
       "</svg>\n",
       "        </td>\n",
       "    </tr>\n",
       "</table>"
      ],
      "text/plain": [
       "dask.array<ones_like, shape=(10000, 10000), dtype=float64, chunksize=(1000, 1000), chunktype=numpy.ndarray>"
      ]
     },
     "execution_count": 17,
     "metadata": {},
     "output_type": "execute_result"
    }
   ],
   "source": [
    "import dask.array as da\n",
    "\n",
    "x = da.ones((10_000, 10_000), chunks=(1000, 1000))\n",
    "x"
   ]
  },
  {
   "cell_type": "code",
   "execution_count": 18,
   "id": "f5e24e95-1520-4edd-8f1c-105cdab4e925",
   "metadata": {},
   "outputs": [
    {
     "name": "stdout",
     "output_type": "stream",
     "text": [
      "CPU times: user 7.53 ms, sys: 2.71 ms, total: 10.2 ms\n",
      "Wall time: 9.01 ms\n"
     ]
    },
    {
     "data": {
      "text/html": [
       "<table>\n",
       "    <tr>\n",
       "        <td>\n",
       "            <table>\n",
       "                <thead>\n",
       "                    <tr>\n",
       "                        <td> </td>\n",
       "                        <th> Array </th>\n",
       "                        <th> Chunk </th>\n",
       "                    </tr>\n",
       "                </thead>\n",
       "                <tbody>\n",
       "                    \n",
       "                    <tr>\n",
       "                        <th> Bytes </th>\n",
       "                        <td> 8 B </td>\n",
       "                        <td> 8.0 B </td>\n",
       "                    </tr>\n",
       "                    \n",
       "                    <tr>\n",
       "                        <th> Shape </th>\n",
       "                        <td> () </td>\n",
       "                        <td> () </td>\n",
       "                    </tr>\n",
       "                    <tr>\n",
       "                        <th> Count </th>\n",
       "                        <td> 239 Tasks </td>\n",
       "                        <td> 1 Chunks </td>\n",
       "                    </tr>\n",
       "                    <tr>\n",
       "                    <th> Type </th>\n",
       "                    <td> float64 </td>\n",
       "                    <td> numpy.ndarray </td>\n",
       "                    </tr>\n",
       "                </tbody>\n",
       "            </table>\n",
       "        </td>\n",
       "        <td>\n",
       "        \n",
       "        </td>\n",
       "    </tr>\n",
       "</table>"
      ],
      "text/plain": [
       "dask.array<sum-aggregate, shape=(), dtype=float64, chunksize=(), chunktype=numpy.ndarray>"
      ]
     },
     "execution_count": 18,
     "metadata": {},
     "output_type": "execute_result"
    }
   ],
   "source": [
    "%%time\n",
    "result = x.sum()\n",
    "result"
   ]
  },
  {
   "cell_type": "code",
   "execution_count": 19,
   "id": "d9b67b3a-cb82-4ed6-bd49-267fa70e1921",
   "metadata": {},
   "outputs": [
    {
     "name": "stdout",
     "output_type": "stream",
     "text": [
      "CPU times: user 296 ms, sys: 41.2 ms, total: 337 ms\n",
      "Wall time: 875 ms\n"
     ]
    },
    {
     "data": {
      "text/plain": [
       "100000000.0"
      ]
     },
     "execution_count": 19,
     "metadata": {},
     "output_type": "execute_result"
    }
   ],
   "source": [
    "%%time\n",
    "result.compute()"
   ]
  },
  {
   "cell_type": "markdown",
   "id": "57b557d6-88b5-4b72-b1d6-c16281a12704",
   "metadata": {},
   "source": [
    "Comparemos los tiempos de ejecución contra el ejemplo anterior en numpy"
   ]
  },
  {
   "cell_type": "code",
   "execution_count": null,
   "id": "88f78c8a-503a-476d-bd5f-d399228c7896",
   "metadata": {},
   "outputs": [],
   "source": [
    "# %%time\n",
    "# z = np.random.random(size=(20_000, 20_000))\n",
    "# z.mean(axis=0)\n",
    "# CPU times: user 3.81 s, sys: 1.82 s, total: 5.63 s\n",
    "# Wall time: 6.38 s"
   ]
  },
  {
   "cell_type": "code",
   "execution_count": 20,
   "id": "88cf2863-877a-4ebb-92a3-5f59d9bdd584",
   "metadata": {},
   "outputs": [
    {
     "name": "stdout",
     "output_type": "stream",
     "text": [
      "CPU times: user 1.61 s, sys: 168 ms, total: 1.77 s\n",
      "Wall time: 3.58 s\n"
     ]
    },
    {
     "data": {
      "text/plain": [
       "array([0.50169374, 0.50094526, 0.50205583, ..., 0.50205624, 0.49936741,\n",
       "       0.49962396])"
      ]
     },
     "execution_count": 20,
     "metadata": {},
     "output_type": "execute_result"
    }
   ],
   "source": [
    "%%time\n",
    "x = da.random.random(size=(20_000, 20_000), chunks=(1000, 1000))\n",
    "y = x.mean(axis=0)\n",
    "y.compute()"
   ]
  },
  {
   "cell_type": "code",
   "execution_count": 21,
   "id": "6c08b189-6ec0-40e2-93d2-5db5c5ea6de3",
   "metadata": {},
   "outputs": [],
   "source": [
    "client.close()  # No olvidar cerrar la conexión"
   ]
  },
  {
   "cell_type": "markdown",
   "id": "dfc1b949-5938-460d-9f86-69dbe4587a1d",
   "metadata": {},
   "source": [
    "Más info en https://docs.dask.org/en/latest/array.html\n",
    "\n",
    "<br/>\n",
    "<a href=\"#Agenda\"> >> Agenda</a>\n",
    "<br/><br/><br/><br/><br/><br/><br/><br/><br/><br/>"
   ]
  },
  {
   "cell_type": "markdown",
   "id": "6c68a23f-e29c-4f03-a991-b61a6fd76d90",
   "metadata": {
    "tags": []
   },
   "source": [
    "# Dask Bag"
   ]
  },
  {
   "cell_type": "markdown",
   "id": "6efebfb2-7a71-40c0-9562-1c5210c17afc",
   "metadata": {},
   "source": [
    "Implementación de operaciones `map`, `filter`, `fold`, `groupby` entre otras a colecciones Python genéricas. \n",
    "\n",
    "Usando iteradores, logra procesar estas operaciones en paralelo utilizando poca memoria.\n",
    "\n",
    "Comúnmente, utilizaremos Bag para procesar en paralelo **simples operaciones sobre data no estructura o poco estructurada** (text data, logs, JSON, objetos Python definidos por nosotres)"
   ]
  },
  {
   "cell_type": "markdown",
   "id": "a4af3fe8-4ef8-4412-a5ff-a63f10a1207d",
   "metadata": {},
   "source": [
    "## Leamos data de distintas forma y formato\n",
    "\n",
    "Primero levantamos el `client` de dask"
   ]
  },
  {
   "cell_type": "code",
   "execution_count": 30,
   "id": "903d57d7-398d-48f1-a9ce-b5aeecd34808",
   "metadata": {},
   "outputs": [
    {
     "data": {
      "text/html": [
       "<div>\n",
       "    <div style=\"width: 24px; height: 24px; background-color: #e1e1e1; border: 3px solid #9D9D9D; border-radius: 5px; position: absolute;\"> </div>\n",
       "    <div style=\"margin-left: 48px;\">\n",
       "        <h3 style=\"margin-bottom: 0px;\">Client</h3>\n",
       "        <p style=\"color: #9D9D9D; margin-bottom: 0px;\">Client-fafaffb0-31b2-11ec-99fc-acde48001122</p>\n",
       "        <table style=\"width: 100%; text-align: left;\">\n",
       "\n",
       "        <tr>\n",
       "        \n",
       "            <td style=\"text-align: left;\"><strong>Connection method:</strong> Cluster object</td>\n",
       "            <td style=\"text-align: left;\"><strong>Cluster type:</strong> distributed.LocalCluster</td>\n",
       "        \n",
       "        </tr>\n",
       "\n",
       "        \n",
       "            <tr>\n",
       "                <td style=\"text-align: left;\">\n",
       "                    <strong>Dashboard: </strong> <a href=\"http://127.0.0.1:8787/status\" target=\"_blank\">http://127.0.0.1:8787/status</a>\n",
       "                </td>\n",
       "                <td style=\"text-align: left;\"></td>\n",
       "            </tr>\n",
       "        \n",
       "\n",
       "        </table>\n",
       "\n",
       "        \n",
       "            <details>\n",
       "            <summary style=\"margin-bottom: 20px;\"><h3 style=\"display: inline;\">Cluster Info</h3></summary>\n",
       "            <div class=\"jp-RenderedHTMLCommon jp-RenderedHTML jp-mod-trusted jp-OutputArea-output\">\n",
       "    <div style=\"width: 24px; height: 24px; background-color: #e1e1e1; border: 3px solid #9D9D9D; border-radius: 5px; position: absolute;\">\n",
       "    </div>\n",
       "    <div style=\"margin-left: 48px;\">\n",
       "        <h3 style=\"margin-bottom: 0px; margin-top: 0px;\">LocalCluster</h3>\n",
       "        <p style=\"color: #9D9D9D; margin-bottom: 0px;\">ca421823</p>\n",
       "        <table style=\"width: 100%; text-align: left;\">\n",
       "            <tr>\n",
       "                <td style=\"text-align: left;\">\n",
       "                    <strong>Dashboard:</strong> <a href=\"http://127.0.0.1:8787/status\" target=\"_blank\">http://127.0.0.1:8787/status</a>\n",
       "                </td>\n",
       "                <td style=\"text-align: left;\">\n",
       "                    <strong>Workers:</strong> 4\n",
       "                </td>\n",
       "            </tr>\n",
       "            <tr>\n",
       "                <td style=\"text-align: left;\">\n",
       "                    <strong>Total threads:</strong> 8\n",
       "                </td>\n",
       "                <td style=\"text-align: left;\">\n",
       "                    <strong>Total memory:</strong> 16.00 GiB\n",
       "                </td>\n",
       "            </tr>\n",
       "            \n",
       "            <tr>\n",
       "    <td style=\"text-align: left;\"><strong>Status:</strong> running</td>\n",
       "    <td style=\"text-align: left;\"><strong>Using processes:</strong> True</td>\n",
       "</tr>\n",
       "\n",
       "            \n",
       "        </table>\n",
       "\n",
       "        <details>\n",
       "            <summary style=\"margin-bottom: 20px;\">\n",
       "                <h3 style=\"display: inline;\">Scheduler Info</h3>\n",
       "            </summary>\n",
       "\n",
       "            <div style=\"\">\n",
       "    <div>\n",
       "        <div style=\"width: 24px; height: 24px; background-color: #FFF7E5; border: 3px solid #FF6132; border-radius: 5px; position: absolute;\"> </div>\n",
       "        <div style=\"margin-left: 48px;\">\n",
       "            <h3 style=\"margin-bottom: 0px;\">Scheduler</h3>\n",
       "            <p style=\"color: #9D9D9D; margin-bottom: 0px;\">Scheduler-dea8870b-0ed1-4fa7-8ba2-e83ddf0cc8f0</p>\n",
       "            <table style=\"width: 100%; text-align: left;\">\n",
       "                <tr>\n",
       "                    <td style=\"text-align: left;\">\n",
       "                        <strong>Comm:</strong> tcp://127.0.0.1:56733\n",
       "                    </td>\n",
       "                    <td style=\"text-align: left;\">\n",
       "                        <strong>Workers:</strong> 4\n",
       "                    </td>\n",
       "                </tr>\n",
       "                <tr>\n",
       "                    <td style=\"text-align: left;\">\n",
       "                        <strong>Dashboard:</strong> <a href=\"http://127.0.0.1:8787/status\" target=\"_blank\">http://127.0.0.1:8787/status</a>\n",
       "                    </td>\n",
       "                    <td style=\"text-align: left;\">\n",
       "                        <strong>Total threads:</strong> 8\n",
       "                    </td>\n",
       "                </tr>\n",
       "                <tr>\n",
       "                    <td style=\"text-align: left;\">\n",
       "                        <strong>Started:</strong> Just now\n",
       "                    </td>\n",
       "                    <td style=\"text-align: left;\">\n",
       "                        <strong>Total memory:</strong> 16.00 GiB\n",
       "                    </td>\n",
       "                </tr>\n",
       "            </table>\n",
       "        </div>\n",
       "    </div>\n",
       "\n",
       "    <details style=\"margin-left: 48px;\">\n",
       "        <summary style=\"margin-bottom: 20px;\">\n",
       "            <h3 style=\"display: inline;\">Workers</h3>\n",
       "        </summary>\n",
       "\n",
       "        \n",
       "        <div style=\"margin-bottom: 20px;\">\n",
       "            <div style=\"width: 24px; height: 24px; background-color: #DBF5FF; border: 3px solid #4CC9FF; border-radius: 5px; position: absolute;\"> </div>\n",
       "            <div style=\"margin-left: 48px;\">\n",
       "            <details>\n",
       "                <summary>\n",
       "                    <h4 style=\"margin-bottom: 0px; display: inline;\">Worker: 0</h4>\n",
       "                </summary>\n",
       "                <table style=\"width: 100%; text-align: left;\">\n",
       "                    <tr>\n",
       "                        <td style=\"text-align: left;\">\n",
       "                            <strong>Comm: </strong> tcp://127.0.0.1:56751\n",
       "                        </td>\n",
       "                        <td style=\"text-align: left;\">\n",
       "                            <strong>Total threads: </strong> 2\n",
       "                        </td>\n",
       "                    </tr>\n",
       "                    <tr>\n",
       "                        <td style=\"text-align: left;\">\n",
       "                            <strong>Dashboard: </strong> <a href=\"http://127.0.0.1:56754/status\" target=\"_blank\">http://127.0.0.1:56754/status</a>\n",
       "                        </td>\n",
       "                        <td style=\"text-align: left;\">\n",
       "                            <strong>Memory: </strong> 4.00 GiB\n",
       "                        </td>\n",
       "                    </tr>\n",
       "                    <tr>\n",
       "                        <td style=\"text-align: left;\">\n",
       "                            <strong>Nanny: </strong> tcp://127.0.0.1:56738\n",
       "                        </td>\n",
       "                        <td style=\"text-align: left;\"></td>\n",
       "                    </tr>\n",
       "                    <tr>\n",
       "                        <td colspan=\"2\" style=\"text-align: left;\">\n",
       "                            <strong>Local directory: </strong> /Users/matiavarela/repos/personal/intro-dask-pyconar-2021/dask-worker-space/worker-stz9yzlv\n",
       "                        </td>\n",
       "                    </tr>\n",
       "\n",
       "                    \n",
       "\n",
       "                    \n",
       "\n",
       "                </table>\n",
       "            </details>\n",
       "            </div>\n",
       "        </div>\n",
       "        \n",
       "        <div style=\"margin-bottom: 20px;\">\n",
       "            <div style=\"width: 24px; height: 24px; background-color: #DBF5FF; border: 3px solid #4CC9FF; border-radius: 5px; position: absolute;\"> </div>\n",
       "            <div style=\"margin-left: 48px;\">\n",
       "            <details>\n",
       "                <summary>\n",
       "                    <h4 style=\"margin-bottom: 0px; display: inline;\">Worker: 1</h4>\n",
       "                </summary>\n",
       "                <table style=\"width: 100%; text-align: left;\">\n",
       "                    <tr>\n",
       "                        <td style=\"text-align: left;\">\n",
       "                            <strong>Comm: </strong> tcp://127.0.0.1:56746\n",
       "                        </td>\n",
       "                        <td style=\"text-align: left;\">\n",
       "                            <strong>Total threads: </strong> 2\n",
       "                        </td>\n",
       "                    </tr>\n",
       "                    <tr>\n",
       "                        <td style=\"text-align: left;\">\n",
       "                            <strong>Dashboard: </strong> <a href=\"http://127.0.0.1:56749/status\" target=\"_blank\">http://127.0.0.1:56749/status</a>\n",
       "                        </td>\n",
       "                        <td style=\"text-align: left;\">\n",
       "                            <strong>Memory: </strong> 4.00 GiB\n",
       "                        </td>\n",
       "                    </tr>\n",
       "                    <tr>\n",
       "                        <td style=\"text-align: left;\">\n",
       "                            <strong>Nanny: </strong> tcp://127.0.0.1:56736\n",
       "                        </td>\n",
       "                        <td style=\"text-align: left;\"></td>\n",
       "                    </tr>\n",
       "                    <tr>\n",
       "                        <td colspan=\"2\" style=\"text-align: left;\">\n",
       "                            <strong>Local directory: </strong> /Users/matiavarela/repos/personal/intro-dask-pyconar-2021/dask-worker-space/worker-x_6ql6hs\n",
       "                        </td>\n",
       "                    </tr>\n",
       "\n",
       "                    \n",
       "\n",
       "                    \n",
       "\n",
       "                </table>\n",
       "            </details>\n",
       "            </div>\n",
       "        </div>\n",
       "        \n",
       "        <div style=\"margin-bottom: 20px;\">\n",
       "            <div style=\"width: 24px; height: 24px; background-color: #DBF5FF; border: 3px solid #4CC9FF; border-radius: 5px; position: absolute;\"> </div>\n",
       "            <div style=\"margin-left: 48px;\">\n",
       "            <details>\n",
       "                <summary>\n",
       "                    <h4 style=\"margin-bottom: 0px; display: inline;\">Worker: 2</h4>\n",
       "                </summary>\n",
       "                <table style=\"width: 100%; text-align: left;\">\n",
       "                    <tr>\n",
       "                        <td style=\"text-align: left;\">\n",
       "                            <strong>Comm: </strong> tcp://127.0.0.1:56744\n",
       "                        </td>\n",
       "                        <td style=\"text-align: left;\">\n",
       "                            <strong>Total threads: </strong> 2\n",
       "                        </td>\n",
       "                    </tr>\n",
       "                    <tr>\n",
       "                        <td style=\"text-align: left;\">\n",
       "                            <strong>Dashboard: </strong> <a href=\"http://127.0.0.1:56747/status\" target=\"_blank\">http://127.0.0.1:56747/status</a>\n",
       "                        </td>\n",
       "                        <td style=\"text-align: left;\">\n",
       "                            <strong>Memory: </strong> 4.00 GiB\n",
       "                        </td>\n",
       "                    </tr>\n",
       "                    <tr>\n",
       "                        <td style=\"text-align: left;\">\n",
       "                            <strong>Nanny: </strong> tcp://127.0.0.1:56735\n",
       "                        </td>\n",
       "                        <td style=\"text-align: left;\"></td>\n",
       "                    </tr>\n",
       "                    <tr>\n",
       "                        <td colspan=\"2\" style=\"text-align: left;\">\n",
       "                            <strong>Local directory: </strong> /Users/matiavarela/repos/personal/intro-dask-pyconar-2021/dask-worker-space/worker-d7_d0zql\n",
       "                        </td>\n",
       "                    </tr>\n",
       "\n",
       "                    \n",
       "\n",
       "                    \n",
       "\n",
       "                </table>\n",
       "            </details>\n",
       "            </div>\n",
       "        </div>\n",
       "        \n",
       "        <div style=\"margin-bottom: 20px;\">\n",
       "            <div style=\"width: 24px; height: 24px; background-color: #DBF5FF; border: 3px solid #4CC9FF; border-radius: 5px; position: absolute;\"> </div>\n",
       "            <div style=\"margin-left: 48px;\">\n",
       "            <details>\n",
       "                <summary>\n",
       "                    <h4 style=\"margin-bottom: 0px; display: inline;\">Worker: 3</h4>\n",
       "                </summary>\n",
       "                <table style=\"width: 100%; text-align: left;\">\n",
       "                    <tr>\n",
       "                        <td style=\"text-align: left;\">\n",
       "                            <strong>Comm: </strong> tcp://127.0.0.1:56745\n",
       "                        </td>\n",
       "                        <td style=\"text-align: left;\">\n",
       "                            <strong>Total threads: </strong> 2\n",
       "                        </td>\n",
       "                    </tr>\n",
       "                    <tr>\n",
       "                        <td style=\"text-align: left;\">\n",
       "                            <strong>Dashboard: </strong> <a href=\"http://127.0.0.1:56752/status\" target=\"_blank\">http://127.0.0.1:56752/status</a>\n",
       "                        </td>\n",
       "                        <td style=\"text-align: left;\">\n",
       "                            <strong>Memory: </strong> 4.00 GiB\n",
       "                        </td>\n",
       "                    </tr>\n",
       "                    <tr>\n",
       "                        <td style=\"text-align: left;\">\n",
       "                            <strong>Nanny: </strong> tcp://127.0.0.1:56737\n",
       "                        </td>\n",
       "                        <td style=\"text-align: left;\"></td>\n",
       "                    </tr>\n",
       "                    <tr>\n",
       "                        <td colspan=\"2\" style=\"text-align: left;\">\n",
       "                            <strong>Local directory: </strong> /Users/matiavarela/repos/personal/intro-dask-pyconar-2021/dask-worker-space/worker-f0nq95fj\n",
       "                        </td>\n",
       "                    </tr>\n",
       "\n",
       "                    \n",
       "\n",
       "                    \n",
       "\n",
       "                </table>\n",
       "            </details>\n",
       "            </div>\n",
       "        </div>\n",
       "        \n",
       "\n",
       "    </details>\n",
       "</div>\n",
       "\n",
       "        </details>\n",
       "    </div>\n",
       "</div>\n",
       "            </details>\n",
       "        \n",
       "\n",
       "    </div>\n",
       "</div>"
      ],
      "text/plain": [
       "<Client: 'tcp://127.0.0.1:56733' processes=4 threads=8, memory=16.00 GiB>"
      ]
     },
     "execution_count": 30,
     "metadata": {},
     "output_type": "execute_result"
    }
   ],
   "source": [
    "from dask.distributed import Client\n",
    "\n",
    "client = Client(n_workers=4)\n",
    "client"
   ]
  },
  {
   "cell_type": "markdown",
   "id": "da103355-8a0c-44f8-906c-f9d6e7c5eae7",
   "metadata": {},
   "source": [
    "### Desde una secuencia"
   ]
  },
  {
   "cell_type": "code",
   "execution_count": 31,
   "id": "43fb9e46-cd70-409e-9576-d86ca4ed5db4",
   "metadata": {},
   "outputs": [
    {
     "data": {
      "text/plain": [
       "dask.bag<from_sequence, npartitions=2>"
      ]
     },
     "execution_count": 31,
     "metadata": {},
     "output_type": "execute_result"
    }
   ],
   "source": [
    "import dask.bag as db\n",
    "\n",
    "b = db.from_sequence([\n",
    "    'Argentina', 'Bolivia', 'Brasil', 'Chile', \n",
    "    'Paraguay', 'Uruguay', 'Perú', 'Colombia', \n",
    "    'Venezuela'], npartitions=2)\n",
    "b"
   ]
  },
  {
   "cell_type": "code",
   "execution_count": 32,
   "id": "db9ffb78-532f-48d4-904b-48424a3eea3d",
   "metadata": {},
   "outputs": [
    {
     "data": {
      "text/plain": [
       "['Argentina',\n",
       " 'Bolivia',\n",
       " 'Brasil',\n",
       " 'Chile',\n",
       " 'Paraguay',\n",
       " 'Uruguay',\n",
       " 'Perú',\n",
       " 'Colombia',\n",
       " 'Venezuela']"
      ]
     },
     "execution_count": 32,
     "metadata": {},
     "output_type": "execute_result"
    }
   ],
   "source": [
    "b.compute()"
   ]
  },
  {
   "cell_type": "code",
   "execution_count": 33,
   "id": "b99d8b40-7d39-45ed-ad6e-85a67cb67dc1",
   "metadata": {},
   "outputs": [
    {
     "data": {
      "text/plain": [
       "('Argentina', 'Bolivia', 'Brasil', 'Chile')"
      ]
     },
     "execution_count": 33,
     "metadata": {},
     "output_type": "execute_result"
    }
   ],
   "source": [
    "b.take(4)"
   ]
  },
  {
   "cell_type": "markdown",
   "id": "84a1fefb-724a-47be-b0b5-79bd043c9515",
   "metadata": {},
   "source": [
    "### Desde distintos archivos JSON\n",
    "\n",
    "Primero, creamos los archivos desde un dataset ya construido por Dask"
   ]
  },
  {
   "cell_type": "code",
   "execution_count": 34,
   "id": "25085428-0381-426b-a74a-1559425f4739",
   "metadata": {},
   "outputs": [
    {
     "name": "stdout",
     "output_type": "stream",
     "text": [
      "CPU times: user 236 ms, sys: 49.4 ms, total: 285 ms\n",
      "Wall time: 1.96 s\n"
     ]
    },
    {
     "data": {
      "text/plain": [
       "['/Users/matiavarela/repos/personal/intro-dask-pyconar-2021/data/people/0.json',\n",
       " '/Users/matiavarela/repos/personal/intro-dask-pyconar-2021/data/people/1.json',\n",
       " '/Users/matiavarela/repos/personal/intro-dask-pyconar-2021/data/people/2.json',\n",
       " '/Users/matiavarela/repos/personal/intro-dask-pyconar-2021/data/people/3.json',\n",
       " '/Users/matiavarela/repos/personal/intro-dask-pyconar-2021/data/people/4.json',\n",
       " '/Users/matiavarela/repos/personal/intro-dask-pyconar-2021/data/people/5.json',\n",
       " '/Users/matiavarela/repos/personal/intro-dask-pyconar-2021/data/people/6.json',\n",
       " '/Users/matiavarela/repos/personal/intro-dask-pyconar-2021/data/people/7.json',\n",
       " '/Users/matiavarela/repos/personal/intro-dask-pyconar-2021/data/people/8.json',\n",
       " '/Users/matiavarela/repos/personal/intro-dask-pyconar-2021/data/people/9.json']"
      ]
     },
     "execution_count": 34,
     "metadata": {},
     "output_type": "execute_result"
    }
   ],
   "source": [
    "%%time\n",
    "import dask\n",
    "import json\n",
    "import os\n",
    "\n",
    "b = dask.datasets.make_people()\n",
    "b.map(json.dumps).to_textfiles('data/people/*.json')"
   ]
  },
  {
   "cell_type": "code",
   "execution_count": 35,
   "id": "3ff5cfac-9757-4f20-bfe0-d0c50c594459",
   "metadata": {},
   "outputs": [
    {
     "data": {
      "text/plain": [
       "dask.bag<bag-from-delayed, npartitions=10>"
      ]
     },
     "execution_count": 35,
     "metadata": {},
     "output_type": "execute_result"
    }
   ],
   "source": [
    "# lo leemos con read_text\n",
    "b = db.read_text('data/people/*.json')\n",
    "b"
   ]
  },
  {
   "cell_type": "code",
   "execution_count": 36,
   "id": "220b3ec1-97ad-4f04-8c96-30d4442b7915",
   "metadata": {},
   "outputs": [
    {
     "data": {
      "text/plain": [
       "10000"
      ]
     },
     "execution_count": 36,
     "metadata": {},
     "output_type": "execute_result"
    }
   ],
   "source": [
    "b.count().compute()"
   ]
  },
  {
   "cell_type": "code",
   "execution_count": 37,
   "id": "532d5bfb-e051-432f-b85b-6356aa68812a",
   "metadata": {},
   "outputs": [
    {
     "name": "stdout",
     "output_type": "stream",
     "text": [
      "CPU times: user 38.7 ms, sys: 10.3 ms, total: 49 ms\n",
      "Wall time: 63.4 ms\n"
     ]
    },
    {
     "data": {
      "text/plain": [
       "('{\"age\": 49, \"name\": [\"Antonia\", \"Crane\"], \"occupation\": \"Undertaker\", \"telephone\": \"222.606.0010\", \"address\": {\"address\": \"1078 Roemer Avenue\", \"city\": \"Duluth\"}, \"credit-card\": {\"number\": \"3703 813344 39995\", \"expiration-date\": \"02/19\"}}\\n',\n",
       " '{\"age\": 35, \"name\": [\"Darby\", \"Mendoza\"], \"occupation\": \"Locksmith\", \"telephone\": \"+1-(084)-150-9255\", \"address\": {\"address\": \"1105 Candyland Heights\", \"city\": \"Evergreen Park\"}, \"credit-card\": {\"number\": \"3409 271649 11938\", \"expiration-date\": \"01/24\"}}\\n')"
      ]
     },
     "execution_count": 37,
     "metadata": {},
     "output_type": "execute_result"
    }
   ],
   "source": [
    "%%time\n",
    "b.take(2)"
   ]
  },
  {
   "cell_type": "code",
   "execution_count": 38,
   "id": "900947a6-d79f-4cac-afac-a74f5890ddb6",
   "metadata": {},
   "outputs": [
    {
     "name": "stdout",
     "output_type": "stream",
     "text": [
      "CPU times: user 50.7 ms, sys: 10.2 ms, total: 60.9 ms\n",
      "Wall time: 100 ms\n"
     ]
    },
    {
     "data": {
      "text/plain": [
       "({'age': 49,\n",
       "  'name': ['Antonia', 'Crane'],\n",
       "  'occupation': 'Undertaker',\n",
       "  'telephone': '222.606.0010',\n",
       "  'address': {'address': '1078 Roemer Avenue', 'city': 'Duluth'},\n",
       "  'credit-card': {'number': '3703 813344 39995', 'expiration-date': '02/19'}},\n",
       " {'age': 35,\n",
       "  'name': ['Darby', 'Mendoza'],\n",
       "  'occupation': 'Locksmith',\n",
       "  'telephone': '+1-(084)-150-9255',\n",
       "  'address': {'address': '1105 Candyland Heights', 'city': 'Evergreen Park'},\n",
       "  'credit-card': {'number': '3409 271649 11938', 'expiration-date': '01/24'}})"
      ]
     },
     "execution_count": 38,
     "metadata": {},
     "output_type": "execute_result"
    }
   ],
   "source": [
    "%%time\n",
    "b = b.map(json.loads)\n",
    "b.take(2)"
   ]
  },
  {
   "cell_type": "markdown",
   "id": "f3cdc5ea-6605-4b16-98cd-a910bc18cefb",
   "metadata": {},
   "source": [
    "### Manipulando la información\n",
    "\n",
    "Las operaciones sobre objetos Bag crean nuevos objetos"
   ]
  },
  {
   "cell_type": "code",
   "execution_count": 39,
   "id": "16aea1c2-00be-4cc1-8749-8b8f9626cb67",
   "metadata": {},
   "outputs": [
    {
     "data": {
      "text/plain": [
       "({'age': 49,\n",
       "  'name': ['Antonia', 'Crane'],\n",
       "  'occupation': 'Undertaker',\n",
       "  'telephone': '222.606.0010',\n",
       "  'address': {'address': '1078 Roemer Avenue', 'city': 'Duluth'},\n",
       "  'credit-card': {'number': '3703 813344 39995', 'expiration-date': '02/19'}},\n",
       " {'age': 35,\n",
       "  'name': ['Darby', 'Mendoza'],\n",
       "  'occupation': 'Locksmith',\n",
       "  'telephone': '+1-(084)-150-9255',\n",
       "  'address': {'address': '1105 Candyland Heights', 'city': 'Evergreen Park'},\n",
       "  'credit-card': {'number': '3409 271649 11938', 'expiration-date': '01/24'}},\n",
       " {'age': 42,\n",
       "  'name': ['Andrea', \"O'neal\"],\n",
       "  'occupation': 'Metal Worker',\n",
       "  'telephone': '1-734-989-1190',\n",
       "  'address': {'address': '623 Krausgrill High Street', 'city': 'Poway'},\n",
       "  'credit-card': {'number': '5531 6287 0993 4819',\n",
       "   'expiration-date': '09/22'}},\n",
       " {'age': 55,\n",
       "  'name': ['Sammie', 'Montgomery'],\n",
       "  'occupation': 'Window Cleaner',\n",
       "  'telephone': '611-197-7792',\n",
       "  'address': {'address': '1237 Cadell Grove', 'city': 'San Angelo'},\n",
       "  'credit-card': {'number': '4297 0944 2057 5869',\n",
       "   'expiration-date': '02/17'}},\n",
       " {'age': 42,\n",
       "  'name': ['Sharolyn', 'Rivers'],\n",
       "  'occupation': 'Technical Clerk',\n",
       "  'telephone': '1-188-680-8687',\n",
       "  'address': {'address': '164 Bell Field', 'city': 'Mamaroneck'},\n",
       "  'credit-card': {'number': '4195 0139 5898 6499',\n",
       "   'expiration-date': '05/18'}})"
      ]
     },
     "execution_count": 39,
     "metadata": {},
     "output_type": "execute_result"
    }
   ],
   "source": [
    "# Filter\n",
    "\n",
    "b.filter(lambda record: record['age'] > 25).take(5)"
   ]
  },
  {
   "cell_type": "code",
   "execution_count": 40,
   "id": "420dda55-13d3-4e22-b993-87667a600d40",
   "metadata": {},
   "outputs": [
    {
     "data": {
      "text/plain": [
       "('Antonia',\n",
       " 'Darby',\n",
       " 'Andrea',\n",
       " 'Sammie',\n",
       " 'Sharolyn',\n",
       " 'Chieko',\n",
       " 'Keena',\n",
       " 'Corliss',\n",
       " 'Leif',\n",
       " 'Danny')"
      ]
     },
     "execution_count": 40,
     "metadata": {},
     "output_type": "execute_result"
    }
   ],
   "source": [
    "# Map\n",
    "x = b.map(lambda record: record['name'][0]).take(10)\n",
    "x"
   ]
  },
  {
   "cell_type": "code",
   "execution_count": 41,
   "id": "b4f1fb44-5feb-478c-a99a-17b343475d36",
   "metadata": {},
   "outputs": [
    {
     "name": "stdout",
     "output_type": "stream",
     "text": [
      "CPU times: user 419 ms, sys: 51.2 ms, total: 470 ms\n",
      "Wall time: 1.3 s\n"
     ]
    }
   ],
   "source": [
    "%%time\n",
    "# groupby\n",
    "\n",
    "# tomemos el primer nombre, y agrupemoslos por el largo (len)\n",
    "y = b.map(lambda record: record['name'][0])\n",
    "yg = y.groupby(len).compute()"
   ]
  },
  {
   "cell_type": "code",
   "execution_count": 44,
   "id": "408fd017-a9e1-4c36-99c7-4224bcd37dbb",
   "metadata": {},
   "outputs": [
    {
     "data": {
      "text/plain": [
       "(2,\n",
       " ['Vi',\n",
       "  'Vi',\n",
       "  'Ha',\n",
       "  'Pa',\n",
       "  'Pa',\n",
       "  'An',\n",
       "  'Jc',\n",
       "  'Al',\n",
       "  'Ai',\n",
       "  'Un',\n",
       "  'Ja',\n",
       "  'Ed',\n",
       "  'Ed',\n",
       "  'Al',\n",
       "  'Tu',\n",
       "  'Ha',\n",
       "  'Ed',\n",
       "  'Fe',\n",
       "  'Fe',\n",
       "  'Ha',\n",
       "  'Ed',\n",
       "  'An',\n",
       "  'Le',\n",
       "  'My',\n",
       "  'Jc',\n",
       "  'Bo',\n",
       "  'Al',\n",
       "  'Al',\n",
       "  'Pa',\n",
       "  'Jc',\n",
       "  'Ka',\n",
       "  'Ja',\n",
       "  'Ed',\n",
       "  'Bo',\n",
       "  'Al',\n",
       "  'An',\n",
       "  'Bo',\n",
       "  'Vi',\n",
       "  'Ta',\n",
       "  'Na',\n",
       "  'So',\n",
       "  'Ka',\n",
       "  'An',\n",
       "  'Bo',\n",
       "  'My',\n",
       "  'An',\n",
       "  'Le',\n",
       "  'Ty',\n",
       "  'Ed',\n",
       "  'Bo',\n",
       "  'Bo',\n",
       "  'Ty',\n",
       "  'Jc',\n",
       "  'Fe',\n",
       "  'Ed',\n",
       "  'Bo',\n",
       "  'Bo',\n",
       "  'Na',\n",
       "  'Ty',\n",
       "  'Fe'])"
      ]
     },
     "execution_count": 44,
     "metadata": {},
     "output_type": "execute_result"
    }
   ],
   "source": [
    "yg[2]"
   ]
  },
  {
   "cell_type": "code",
   "execution_count": 45,
   "id": "70c9e8bc-47ba-41e3-8bae-4c73658c07a3",
   "metadata": {},
   "outputs": [],
   "source": [
    "client.close()"
   ]
  },
  {
   "cell_type": "markdown",
   "id": "7ef689d5-2d46-4198-a5e2-105cbb5b6490",
   "metadata": {},
   "source": [
    "Más info en https://docs.dask.org/en/latest/bag.html\n",
    "\n",
    "<br/>\n",
    "<a href=\"#Agenda\"> >> Agenda</a>\n",
    "<br/><br/><br/><br/><br/><br/><br/><br/><br/><br/>"
   ]
  },
  {
   "cell_type": "markdown",
   "id": "fd55968c-8db4-4d50-818b-f5deb09d34d5",
   "metadata": {
    "tags": []
   },
   "source": [
    "# Dask DataFrame"
   ]
  },
  {
   "cell_type": "markdown",
   "id": "f46fa644-48b3-4ee3-bf55-e8ae2fd9d3ea",
   "metadata": {},
   "source": [
    "Un Dask DataFrame es un gran DataFrame paralelo compuesto por muchos Pandas DataFrames más pequeños, divididos a lo largo del índice. \n",
    "\n",
    "Una operación de Dask DataFrame desencadena muchas operaciones en los Pandas DataFrames que lo componen.\n",
    "\n",
    "`dask.dataframe` expone una API que es un subset de la API de pandas."
   ]
  },
  {
   "cell_type": "markdown",
   "id": "4b049009-11bd-486c-9aee-30366caaa518",
   "metadata": {},
   "source": [
    "<img src=\"images/dask-dataframe.svg\" alt=\"Dataframe diagram\" width=\"300\"/>\n"
   ]
  },
  {
   "cell_type": "code",
   "execution_count": 46,
   "id": "8cdb71b2-1325-4973-b986-7391b1ae7f8d",
   "metadata": {
    "tags": []
   },
   "outputs": [],
   "source": [
    "from dask.distributed import Client\n",
    "\n",
    "client = Client(n_workers=4)"
   ]
  },
  {
   "cell_type": "code",
   "execution_count": 47,
   "id": "f1f35111-983a-4e15-864f-2d9d1d7278ed",
   "metadata": {},
   "outputs": [],
   "source": [
    "import dask.dataframe as dd\n",
    "df = dd.read_json('data/people/*.json', orient='records')"
   ]
  },
  {
   "cell_type": "code",
   "execution_count": 48,
   "id": "6fec17cf-48de-4769-ac64-997a70b6ee86",
   "metadata": {},
   "outputs": [
    {
     "data": {
      "text/html": [
       "<div>\n",
       "<style scoped>\n",
       "    .dataframe tbody tr th:only-of-type {\n",
       "        vertical-align: middle;\n",
       "    }\n",
       "\n",
       "    .dataframe tbody tr th {\n",
       "        vertical-align: top;\n",
       "    }\n",
       "\n",
       "    .dataframe thead th {\n",
       "        text-align: right;\n",
       "    }\n",
       "</style>\n",
       "<table border=\"1\" class=\"dataframe\">\n",
       "  <thead>\n",
       "    <tr style=\"text-align: right;\">\n",
       "      <th></th>\n",
       "      <th>age</th>\n",
       "      <th>name</th>\n",
       "      <th>occupation</th>\n",
       "      <th>telephone</th>\n",
       "      <th>address</th>\n",
       "      <th>credit-card</th>\n",
       "    </tr>\n",
       "  </thead>\n",
       "  <tbody>\n",
       "    <tr>\n",
       "      <th>0</th>\n",
       "      <td>49</td>\n",
       "      <td>[Antonia, Crane]</td>\n",
       "      <td>Undertaker</td>\n",
       "      <td>222.606.0010</td>\n",
       "      <td>{'address': '1078 Roemer Avenue', 'city': 'Dul...</td>\n",
       "      <td>{'number': '3703 813344 39995', 'expiration-da...</td>\n",
       "    </tr>\n",
       "    <tr>\n",
       "      <th>1</th>\n",
       "      <td>35</td>\n",
       "      <td>[Darby, Mendoza]</td>\n",
       "      <td>Locksmith</td>\n",
       "      <td>+1-(084)-150-9255</td>\n",
       "      <td>{'address': '1105 Candyland Heights', 'city': ...</td>\n",
       "      <td>{'number': '3409 271649 11938', 'expiration-da...</td>\n",
       "    </tr>\n",
       "    <tr>\n",
       "      <th>2</th>\n",
       "      <td>42</td>\n",
       "      <td>[Andrea, O'neal]</td>\n",
       "      <td>Metal Worker</td>\n",
       "      <td>1-734-989-1190</td>\n",
       "      <td>{'address': '623 Krausgrill High Street', 'cit...</td>\n",
       "      <td>{'number': '5531 6287 0993 4819', 'expiration-...</td>\n",
       "    </tr>\n",
       "    <tr>\n",
       "      <th>3</th>\n",
       "      <td>55</td>\n",
       "      <td>[Sammie, Montgomery]</td>\n",
       "      <td>Window Cleaner</td>\n",
       "      <td>611-197-7792</td>\n",
       "      <td>{'address': '1237 Cadell Grove', 'city': 'San ...</td>\n",
       "      <td>{'number': '4297 0944 2057 5869', 'expiration-...</td>\n",
       "    </tr>\n",
       "    <tr>\n",
       "      <th>4</th>\n",
       "      <td>42</td>\n",
       "      <td>[Sharolyn, Rivers]</td>\n",
       "      <td>Technical Clerk</td>\n",
       "      <td>1-188-680-8687</td>\n",
       "      <td>{'address': '164 Bell Field', 'city': 'Mamaron...</td>\n",
       "      <td>{'number': '4195 0139 5898 6499', 'expiration-...</td>\n",
       "    </tr>\n",
       "  </tbody>\n",
       "</table>\n",
       "</div>"
      ],
      "text/plain": [
       "   age                  name       occupation          telephone  \\\n",
       "0   49      [Antonia, Crane]       Undertaker       222.606.0010   \n",
       "1   35      [Darby, Mendoza]        Locksmith  +1-(084)-150-9255   \n",
       "2   42      [Andrea, O'neal]     Metal Worker     1-734-989-1190   \n",
       "3   55  [Sammie, Montgomery]   Window Cleaner       611-197-7792   \n",
       "4   42    [Sharolyn, Rivers]  Technical Clerk     1-188-680-8687   \n",
       "\n",
       "                                             address  \\\n",
       "0  {'address': '1078 Roemer Avenue', 'city': 'Dul...   \n",
       "1  {'address': '1105 Candyland Heights', 'city': ...   \n",
       "2  {'address': '623 Krausgrill High Street', 'cit...   \n",
       "3  {'address': '1237 Cadell Grove', 'city': 'San ...   \n",
       "4  {'address': '164 Bell Field', 'city': 'Mamaron...   \n",
       "\n",
       "                                         credit-card  \n",
       "0  {'number': '3703 813344 39995', 'expiration-da...  \n",
       "1  {'number': '3409 271649 11938', 'expiration-da...  \n",
       "2  {'number': '5531 6287 0993 4819', 'expiration-...  \n",
       "3  {'number': '4297 0944 2057 5869', 'expiration-...  \n",
       "4  {'number': '4195 0139 5898 6499', 'expiration-...  "
      ]
     },
     "execution_count": 48,
     "metadata": {},
     "output_type": "execute_result"
    }
   ],
   "source": [
    "df.head()"
   ]
  },
  {
   "cell_type": "code",
   "execution_count": 49,
   "id": "ae789fe5-13a6-4528-9eed-f2d964be2551",
   "metadata": {},
   "outputs": [
    {
     "data": {
      "text/plain": [
       "(10000, 6)"
      ]
     },
     "execution_count": 49,
     "metadata": {},
     "output_type": "execute_result"
    }
   ],
   "source": [
    "df.compute().shape"
   ]
  },
  {
   "cell_type": "code",
   "execution_count": 50,
   "id": "7f5b19fd-5b05-4672-8fda-68655af766b2",
   "metadata": {},
   "outputs": [],
   "source": [
    "df1 = df[df[\"occupation\"] == \"Merchant\"]"
   ]
  },
  {
   "cell_type": "code",
   "execution_count": 51,
   "id": "db5b625a-669c-4bd1-b8fa-a84d671133b9",
   "metadata": {},
   "outputs": [
    {
     "data": {
      "text/html": [
       "<div>\n",
       "<style scoped>\n",
       "    .dataframe tbody tr th:only-of-type {\n",
       "        vertical-align: middle;\n",
       "    }\n",
       "\n",
       "    .dataframe tbody tr th {\n",
       "        vertical-align: top;\n",
       "    }\n",
       "\n",
       "    .dataframe thead th {\n",
       "        text-align: right;\n",
       "    }\n",
       "</style>\n",
       "<table border=\"1\" class=\"dataframe\">\n",
       "  <thead>\n",
       "    <tr style=\"text-align: right;\">\n",
       "      <th></th>\n",
       "      <th>age</th>\n",
       "      <th>name</th>\n",
       "      <th>occupation</th>\n",
       "      <th>telephone</th>\n",
       "      <th>address</th>\n",
       "      <th>credit-card</th>\n",
       "    </tr>\n",
       "  </thead>\n",
       "  <tbody>\n",
       "    <tr>\n",
       "      <th>754</th>\n",
       "      <td>21</td>\n",
       "      <td>[Dennise, Donovan]</td>\n",
       "      <td>Merchant</td>\n",
       "      <td>(044) 433-8112</td>\n",
       "      <td>{'address': '710 Union Parkway', 'city': 'Tull...</td>\n",
       "      <td>{'number': '4189 5580 4047 9174', 'expiration-...</td>\n",
       "    </tr>\n",
       "    <tr>\n",
       "      <th>987</th>\n",
       "      <td>38</td>\n",
       "      <td>[Mellie, Pickett]</td>\n",
       "      <td>Merchant</td>\n",
       "      <td>878.408.2061</td>\n",
       "      <td>{'address': '155 Vassar Bay', 'city': 'Elizabe...</td>\n",
       "      <td>{'number': '4901 6286 7601 5779', 'expiration-...</td>\n",
       "    </tr>\n",
       "    <tr>\n",
       "      <th>55</th>\n",
       "      <td>31</td>\n",
       "      <td>[Andrew, Ayala]</td>\n",
       "      <td>Merchant</td>\n",
       "      <td>348-399-2007</td>\n",
       "      <td>{'address': '124 San Lorenzo Extension', 'city...</td>\n",
       "      <td>{'number': '4921 1418 3660 3829', 'expiration-...</td>\n",
       "    </tr>\n",
       "    <tr>\n",
       "      <th>550</th>\n",
       "      <td>18</td>\n",
       "      <td>[Myrta, Romero]</td>\n",
       "      <td>Merchant</td>\n",
       "      <td>787.550.3395</td>\n",
       "      <td>{'address': '203 Juan Bautista Drung', 'city':...</td>\n",
       "      <td>{'number': '3729 989469 34887', 'expiration-da...</td>\n",
       "    </tr>\n",
       "    <tr>\n",
       "      <th>600</th>\n",
       "      <td>52</td>\n",
       "      <td>[Renato, Ruiz]</td>\n",
       "      <td>Merchant</td>\n",
       "      <td>(120) 809-8382</td>\n",
       "      <td>{'address': '511 Rodgers Extension', 'city': '...</td>\n",
       "      <td>{'number': '3489 297303 05696', 'expiration-da...</td>\n",
       "    </tr>\n",
       "    <tr>\n",
       "      <th>284</th>\n",
       "      <td>38</td>\n",
       "      <td>[Preston, Hull]</td>\n",
       "      <td>Merchant</td>\n",
       "      <td>112-740-5617</td>\n",
       "      <td>{'address': '41 Loyola Route', 'city': 'Delano'}</td>\n",
       "      <td>{'number': '4710 2937 1753 4402', 'expiration-...</td>\n",
       "    </tr>\n",
       "    <tr>\n",
       "      <th>486</th>\n",
       "      <td>23</td>\n",
       "      <td>[Alfonso, Cohen]</td>\n",
       "      <td>Merchant</td>\n",
       "      <td>(074) 024-8404</td>\n",
       "      <td>{'address': '274 Pemberton Esplanade', 'city':...</td>\n",
       "      <td>{'number': '4320 3752 5896 4759', 'expiration-...</td>\n",
       "    </tr>\n",
       "    <tr>\n",
       "      <th>450</th>\n",
       "      <td>64</td>\n",
       "      <td>[Isela, Watts]</td>\n",
       "      <td>Merchant</td>\n",
       "      <td>920.749.4749</td>\n",
       "      <td>{'address': '453 States Ferry', 'city': 'Hemps...</td>\n",
       "      <td>{'number': '4789 1109 6703 7942', 'expiration-...</td>\n",
       "    </tr>\n",
       "    <tr>\n",
       "      <th>673</th>\n",
       "      <td>44</td>\n",
       "      <td>[Ellyn, Branch]</td>\n",
       "      <td>Merchant</td>\n",
       "      <td>1-605-889-6591</td>\n",
       "      <td>{'address': '368 Hussey Trail', 'city': 'Durham'}</td>\n",
       "      <td>{'number': '5153 5056 6051 2015', 'expiration-...</td>\n",
       "    </tr>\n",
       "  </tbody>\n",
       "</table>\n",
       "</div>"
      ],
      "text/plain": [
       "     age                name occupation       telephone  \\\n",
       "754   21  [Dennise, Donovan]   Merchant  (044) 433-8112   \n",
       "987   38   [Mellie, Pickett]   Merchant    878.408.2061   \n",
       "55    31     [Andrew, Ayala]   Merchant    348-399-2007   \n",
       "550   18     [Myrta, Romero]   Merchant    787.550.3395   \n",
       "600   52      [Renato, Ruiz]   Merchant  (120) 809-8382   \n",
       "284   38     [Preston, Hull]   Merchant    112-740-5617   \n",
       "486   23    [Alfonso, Cohen]   Merchant  (074) 024-8404   \n",
       "450   64      [Isela, Watts]   Merchant    920.749.4749   \n",
       "673   44     [Ellyn, Branch]   Merchant  1-605-889-6591   \n",
       "\n",
       "                                               address  \\\n",
       "754  {'address': '710 Union Parkway', 'city': 'Tull...   \n",
       "987  {'address': '155 Vassar Bay', 'city': 'Elizabe...   \n",
       "55   {'address': '124 San Lorenzo Extension', 'city...   \n",
       "550  {'address': '203 Juan Bautista Drung', 'city':...   \n",
       "600  {'address': '511 Rodgers Extension', 'city': '...   \n",
       "284   {'address': '41 Loyola Route', 'city': 'Delano'}   \n",
       "486  {'address': '274 Pemberton Esplanade', 'city':...   \n",
       "450  {'address': '453 States Ferry', 'city': 'Hemps...   \n",
       "673  {'address': '368 Hussey Trail', 'city': 'Durham'}   \n",
       "\n",
       "                                           credit-card  \n",
       "754  {'number': '4189 5580 4047 9174', 'expiration-...  \n",
       "987  {'number': '4901 6286 7601 5779', 'expiration-...  \n",
       "55   {'number': '4921 1418 3660 3829', 'expiration-...  \n",
       "550  {'number': '3729 989469 34887', 'expiration-da...  \n",
       "600  {'number': '3489 297303 05696', 'expiration-da...  \n",
       "284  {'number': '4710 2937 1753 4402', 'expiration-...  \n",
       "486  {'number': '4320 3752 5896 4759', 'expiration-...  \n",
       "450  {'number': '4789 1109 6703 7942', 'expiration-...  \n",
       "673  {'number': '5153 5056 6051 2015', 'expiration-...  "
      ]
     },
     "execution_count": 51,
     "metadata": {},
     "output_type": "execute_result"
    }
   ],
   "source": [
    "df1.compute()"
   ]
  },
  {
   "cell_type": "code",
   "execution_count": 55,
   "id": "46ad18e1-2095-4050-a3d1-b4e54d8fabdb",
   "metadata": {},
   "outputs": [],
   "source": [
    "client.close()"
   ]
  },
  {
   "cell_type": "markdown",
   "id": "a5cefdff-1da1-47cc-b71d-5fde0ca139ec",
   "metadata": {},
   "source": [
    "Más info en https://docs.dask.org/en/latest/dataframe.html\n",
    "\n",
    "<br/>\n",
    "<a href=\"#Agenda\"> >> Agenda</a>\n",
    "<br/><br/><br/><br/><br/><br/><br/><br/><br/><br/>"
   ]
  },
  {
   "cell_type": "markdown",
   "id": "08d8bbe8-1f3d-4766-8536-41bbc35619c9",
   "metadata": {
    "tags": []
   },
   "source": [
    "# Dask Delayed"
   ]
  },
  {
   "cell_type": "markdown",
   "id": "a5c12711-a755-40ab-bf86-a5dd9bf02230",
   "metadata": {},
   "source": [
    "Muchas veces lo que queremos resolver no \"encaja\" en colecciones como `array` o `dataframe`. En esos casos, podemos paralelizar código python usando la API de Dask Delayed.\n",
    "\n",
    "Son `lazy`, no se van a ejecutar hasta que sea necesario, o llamemos a `compute`."
   ]
  },
  {
   "cell_type": "code",
   "execution_count": 1,
   "id": "152a7f00-ee76-43d5-8789-d73504408db0",
   "metadata": {},
   "outputs": [],
   "source": [
    "from dask.distributed import Client\n",
    "\n",
    "client = Client(n_workers=4)"
   ]
  },
  {
   "cell_type": "code",
   "execution_count": 2,
   "id": "70baad9a-a5c3-4590-800e-e5972381a9b5",
   "metadata": {},
   "outputs": [],
   "source": [
    "from time import sleep\n",
    "\n",
    "def inc(x):\n",
    "    sleep(.5)\n",
    "    return x + 1\n",
    "\n",
    "def double(x):\n",
    "    sleep(.3)\n",
    "    return x * 2\n",
    "\n",
    "def add(x, y):\n",
    "    sleep(1)\n",
    "    return x + y"
   ]
  },
  {
   "cell_type": "code",
   "execution_count": 3,
   "id": "8b3966c5-ff1c-4f7f-9587-efe98b4b9632",
   "metadata": {},
   "outputs": [
    {
     "name": "stdout",
     "output_type": "stream",
     "text": [
      "CPU times: user 392 ms, sys: 79.8 ms, total: 472 ms\n",
      "Wall time: 9.05 s\n"
     ]
    }
   ],
   "source": [
    "%%time\n",
    "data = [1, 2, 3, 4, 5]\n",
    "\n",
    "output = []\n",
    "for x in data:\n",
    "    a = inc(x)\n",
    "    b = double(x)\n",
    "    c = add(a, b)\n",
    "    output.append(c)\n",
    "\n",
    "total = sum(output)"
   ]
  },
  {
   "cell_type": "markdown",
   "id": "aead0a94-6391-422c-ae8d-7c22c6129d8f",
   "metadata": {},
   "source": [
    "### Probemos esto con Delayed"
   ]
  },
  {
   "cell_type": "code",
   "execution_count": 11,
   "id": "68c28e83-06df-4b8d-bce1-b3444644fc6b",
   "metadata": {
    "tags": []
   },
   "outputs": [
    {
     "name": "stdout",
     "output_type": "stream",
     "text": [
      "CPU times: user 3.41 ms, sys: 720 µs, total: 4.13 ms\n",
      "Wall time: 3.88 ms\n"
     ]
    }
   ],
   "source": [
    "%%time\n",
    "from dask import delayed\n",
    "\n",
    "output = []\n",
    "for x in data:\n",
    "    a = delayed(inc)(x)\n",
    "    b = delayed(double)(x)\n",
    "    c = delayed(add)(a, b)\n",
    "    output.append(c)\n",
    "\n",
    "total = delayed(sum)(output)"
   ]
  },
  {
   "cell_type": "code",
   "execution_count": 12,
   "id": "bafd539a-af89-4df1-b217-c3b9c9793980",
   "metadata": {
    "tags": []
   },
   "outputs": [
    {
     "data": {
      "image/png": "[encoded data removed]",
      "text/plain": [
       "<IPython.core.display.Image object>"
      ]
     },
     "execution_count": 12,
     "metadata": {},
     "output_type": "execute_result"
    }
   ],
   "source": [
    "total.visualize()"
   ]
  },
  {
   "cell_type": "code",
   "execution_count": 13,
   "id": "a153ce3c-82e4-4123-8811-f11fd945dda7",
   "metadata": {},
   "outputs": [
    {
     "name": "stdout",
     "output_type": "stream",
     "text": [
      "CPU times: user 267 ms, sys: 60.5 ms, total: 328 ms\n",
      "Wall time: 1.97 s\n"
     ]
    },
    {
     "data": {
      "text/plain": [
       "50"
      ]
     },
     "execution_count": 13,
     "metadata": {},
     "output_type": "execute_result"
    }
   ],
   "source": [
    "%%time\n",
    "total.compute()"
   ]
  },
  {
   "cell_type": "markdown",
   "id": "c8b470a2-20cb-45f6-803d-67bc28d9d937",
   "metadata": {},
   "source": [
    "### Decorador\n",
    "\n",
    "Podemos usar `delayed` como decorador, evitando cambiar el algoritmo original"
   ]
  },
  {
   "cell_type": "code",
   "execution_count": 14,
   "id": "3c6ceaf6-dfd5-4d63-8f1d-5f136834ea0a",
   "metadata": {},
   "outputs": [],
   "source": [
    "import dask\n",
    "\n",
    "@dask.delayed\n",
    "def inc(x):\n",
    "    return x + 1\n",
    "\n",
    "@dask.delayed\n",
    "def double(x):\n",
    "    return x * 2\n",
    "\n",
    "@dask.delayed\n",
    "def add(x, y):\n",
    "    return x + y\n",
    "\n",
    "data = [1, 2, 3, 4, 5]\n",
    "\n",
    "output = []\n",
    "for x in data:\n",
    "    a = inc(x)\n",
    "    b = double(x)\n",
    "    c = add(a, b)\n",
    "    output.append(c)\n",
    "\n",
    "total = dask.delayed(sum)(output)"
   ]
  },
  {
   "cell_type": "code",
   "execution_count": 15,
   "id": "e320af0c-f69a-4c3d-8a35-b110f95e820f",
   "metadata": {},
   "outputs": [
    {
     "data": {
      "text/plain": [
       "50"
      ]
     },
     "execution_count": 15,
     "metadata": {},
     "output_type": "execute_result"
    }
   ],
   "source": [
    "total.compute()"
   ]
  },
  {
   "cell_type": "code",
   "execution_count": 16,
   "id": "4ebf600c-d567-44b7-9abc-02921126dce6",
   "metadata": {},
   "outputs": [],
   "source": [
    "client.close()"
   ]
  },
  {
   "cell_type": "markdown",
   "id": "62b87595-3de0-4a22-9bea-af0bdee4002a",
   "metadata": {},
   "source": [
    "Más info en https://docs.dask.org/en/latest/delayed.html\n",
    "\n",
    "<br/>\n",
    "<a href=\"#Muchas-gracias!\"> >> Es todo!</a>\n",
    "<br/><br/><br/><br/><br/><br/><br/><br/><br/><br/>"
   ]
  },
  {
   "cell_type": "markdown",
   "id": "18a3f5a9-3b7b-4bc7-b047-43d0cbf2174d",
   "metadata": {
    "tags": []
   },
   "source": [
    "# Muchas gracias!\n",
    "\n",
    "Recomiendo fuertemente recorrer la documentación oficial de Dask https://docs.dask.org/\n",
    "\n",
    "También este [curso](https://training.talkpython.fm/courses/details/fundamentals-of-dask-getting-up-to-speed) de TalkPython (free!!!)"
   ]
  },
  {
   "cell_type": "code",
   "execution_count": null,
   "id": "24684552-918f-4091-ab5d-dc23669bef2e",
   "metadata": {},
   "outputs": [],
   "source": []
  }
 ],
 "metadata": {
  "kernelspec": {
   "display_name": "Python 3 (ipykernel)",
   "language": "python",
   "name": "python3"
  },
  "language_info": {
   "codemirror_mode": {
    "name": "ipython",
    "version": 3
   },
   "file_extension": ".py",
   "mimetype": "text/x-python",
   "name": "python",
   "nbconvert_exporter": "python",
   "pygments_lexer": "ipython3",
   "version": "3.9.6"
  }
 },
 "nbformat": 4,
 "nbformat_minor": 5
}
